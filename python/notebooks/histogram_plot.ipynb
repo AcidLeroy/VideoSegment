{
 "cells": [
  {
   "cell_type": "code",
   "execution_count": null,
   "metadata": {
    "collapsed": false
   },
   "outputs": [],
   "source": [
    "from read_video import * \n",
    "import numpy as np\n",
    "import matplotlib.pyplot as plt\n",
    "import cv2\n",
    "%matplotlib inline"
   ]
  },
  {
   "cell_type": "code",
   "execution_count": null,
   "metadata": {
    "collapsed": false
   },
   "outputs": [],
   "source": [
    "video_to_read = \"/Users/cody/test.mov\"\n",
    "max_buf_size_mb = 50; \n",
    "frame_buffer = ReadVideo(video_to_read, max_buf_size_mb, False)\n",
    "print(\"Number of bytes in frame_buffer = %d.\"%frame_buffer.nbytes)"
   ]
  },
  {
   "cell_type": "code",
   "execution_count": null,
   "metadata": {
    "collapsed": false,
    "scrolled": true
   },
   "outputs": [],
   "source": [
    "print(\"Numpy version.\")\n",
    "%time n, bins = np.histogram(frame_buffer[0], 256)\n",
    "opencv_hist = np.zeros([frame_buffer.shape[0], 256]); \n",
    "cv2.calcHist(frame_buffer[0], opencv_hist, mask=None, histSize=[30,32], \n",
    "            ranges=[0, 256])\n",
    "\n",
    "plt.hist(n, bins)\n",
    "plt.show()"
   ]
  },
  {
   "cell_type": "code",
   "execution_count": null,
   "metadata": {
    "collapsed": false
   },
   "outputs": [],
   "source": [
    "frame_buffer[0,:]"
   ]
  },
  {
   "cell_type": "code",
   "execution_count": null,
   "metadata": {
    "collapsed": false
   },
   "outputs": [],
   "source": [
    "plt.imshow(frame_buffer[-1, :])\n",
    "plt.set_cmap('gray')\n",
    "plt.show()"
   ]
  },
  {
   "cell_type": "code",
   "execution_count": null,
   "metadata": {
    "collapsed": true
   },
   "outputs": [],
   "source": []
  }
 ],
 "metadata": {
  "kernelspec": {
   "display_name": "Python 3",
   "language": "python",
   "name": "python3"
  },
  "language_info": {
   "codemirror_mode": {
    "name": "ipython",
    "version": 3
   },
   "file_extension": ".py",
   "mimetype": "text/x-python",
   "name": "python",
   "nbconvert_exporter": "python",
   "pygments_lexer": "ipython3",
   "version": "3.4.2"
  }
 },
 "nbformat": 4,
 "nbformat_minor": 0
}
