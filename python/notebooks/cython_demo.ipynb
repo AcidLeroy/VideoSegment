{
 "cells": [
  {
   "cell_type": "markdown",
   "metadata": {},
   "source": [
    "# Cython & C++: Why It Is Worth It\n",
    "\n",
    "* Author: Cody W. Eilar <cody.eilar@gmail.com> \n",
    "* Course: ECE 633\n",
    "* Professor: Dr. Marios Pattichis\n",
    "\n",
    "In this notebook, I demo why I spent the time to write Cython and C++ code. "
   ]
  },
  {
   "cell_type": "code",
   "execution_count": 3,
   "metadata": {
    "collapsed": true
   },
   "outputs": [],
   "source": [
    "# import custom modules\n",
    "import py_video_segment as pvs\n",
    "import numpy as np"
   ]
  },
  {
   "cell_type": "code",
   "execution_count": 6,
   "metadata": {
    "collapsed": false
   },
   "outputs": [],
   "source": [
    "# Define python function to get the number of false positives\n",
    "def PyNumberFalsePositives(truth, predicted):\n",
    "    count = 0; \n",
    "    for i in predicted: \n",
    "        if not((i in truth)): \n",
    "            count = count + 1; \n",
    "    return count\n",
    "\n",
    "truth = np.array([1, 2, 3, 9, 10, 11]); \n",
    "predicted = np.array([4, 5, 6, 7, 8]); \n",
    "\n",
    "length = 100; \n",
    "\n"
   ]
  },
  {
   "cell_type": "code",
   "execution_count": 7,
   "metadata": {
    "collapsed": false
   },
   "outputs": [
    {
     "name": "stdout",
     "output_type": "stream",
     "text": [
      "100000 loops, best of 3: 19.4 µs per loop\n"
     ]
    }
   ],
   "source": [
    "%timeit PyNumberFalsePositives(truth, predicted)"
   ]
  },
  {
   "cell_type": "code",
   "execution_count": 8,
   "metadata": {
    "collapsed": false
   },
   "outputs": [
    {
     "name": "stdout",
     "output_type": "stream",
     "text": [
      "Created PyMethodAccuracy\n",
      "Size is : 6\n",
      "Size is : 5\n",
      "The slowest run took 14.10 times longer than the fastest. This could mean that an intermediate result is being cached \n",
      "10000000 loops, best of 3: 142 ns per loop\n"
     ]
    }
   ],
   "source": [
    "ma = pvs.PyMethodAccuracy(truth, predicted, 10)\n",
    "%timeit ma.NumFalsePositives()"
   ]
  },
  {
   "cell_type": "markdown",
   "metadata": {},
   "source": [
    "## Analysis\n",
    "As you can see, we are running *significantly* faster with the compiled code. 142 ns vs 19.4 micro seconds per loop. That is a 33x speed up for the same algorithm. Thus it is key to implement bottleneck code at the C++/Cython level. "
   ]
  }
 ],
 "metadata": {
  "kernelspec": {
   "display_name": "Python 3",
   "language": "python",
   "name": "python3"
  },
  "language_info": {
   "codemirror_mode": {
    "name": "ipython",
    "version": 3
   },
   "file_extension": ".py",
   "mimetype": "text/x-python",
   "name": "python",
   "nbconvert_exporter": "python",
   "pygments_lexer": "ipython3",
   "version": "3.4.2"
  }
 },
 "nbformat": 4,
 "nbformat_minor": 0
}
